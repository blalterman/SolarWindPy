{
 "cells": [
  {
   "cell_type": "code",
   "execution_count": 1,
   "id": "316be97b-027b-4bc6-84b9-5b488a33c088",
   "metadata": {},
   "outputs": [
    {
     "name": "stderr",
     "output_type": "stream",
     "text": [
      "/Users/balterma/observatories/code/SolarWindPy/solarwindpy/instabilities/verscharen2016.py:83: FutureWarning: The previous implementation of stack is deprecated and will be removed in a future version of pandas. See the What's New notes for pandas 2.1.0 for details. Specify future_stack=True to adopt the new implementation and silence this warning.\n",
      "  ).stack(\"Growth Rate\")\n",
      "/Users/balterma/observatories/code/SolarWindPy/solarwindpy/__init__.py:30: FutureWarning: use_inf_as_na option is deprecated and will be removed in a future version. Convert inf values to NaN before operating instead.\n",
      "  pd.set_option(\"mode.use_inf_as_na\", True)\n"
     ]
    }
   ],
   "source": [
    "import solarwindpy as swp"
   ]
  },
  {
   "cell_type": "code",
   "execution_count": null,
   "id": "9efb6805-a5b8-4b90-a09d-56a7c15134b9",
   "metadata": {},
   "outputs": [],
   "source": []
  }
 ],
 "metadata": {
  "kernelspec": {
   "display_name": "Python 3 (ipykernel)",
   "language": "python",
   "name": "python3"
  },
  "language_info": {
   "codemirror_mode": {
    "name": "ipython",
    "version": 3
   },
   "file_extension": ".py",
   "mimetype": "text/x-python",
   "name": "python",
   "nbconvert_exporter": "python",
   "pygments_lexer": "ipython3",
   "version": "3.13.2"
  }
 },
 "nbformat": 4,
 "nbformat_minor": 5
}
